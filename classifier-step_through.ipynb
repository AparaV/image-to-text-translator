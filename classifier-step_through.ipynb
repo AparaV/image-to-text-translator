{
 "cells": [
  {
   "cell_type": "code",
   "execution_count": 1,
   "metadata": {
    "collapsed": true
   },
   "outputs": [],
   "source": [
    "import numpy as np\n",
    "import os\n",
    "\n",
    "from mnist import MNIST\n",
    "from sklearn import svm"
   ]
  },
  {
   "cell_type": "code",
   "execution_count": 2,
   "metadata": {
    "collapsed": true
   },
   "outputs": [],
   "source": [
    "# Load Data\n",
    "mndata = MNIST('data')\n",
    "images, labels = mndata.load_training()"
   ]
  },
  {
   "cell_type": "code",
   "execution_count": 3,
   "metadata": {},
   "outputs": [
    {
     "name": "stdout",
     "output_type": "stream",
     "text": [
      "                            \n",
      "                            \n",
      "                            \n",
      "                            \n",
      "            xxxxxxx         \n",
      "         xxxxxxxxxxxxx      \n",
      "       xxxxxxxxxxxxxxxx     \n",
      "       xxxxxxxxxxxxxxxx     \n",
      "       xxxxxx    xxxxxx     \n",
      "       xxxx      xxxxxx     \n",
      "               xxxxxxx      \n",
      "              xxxxxxxx      \n",
      "             xxxxxxxx       \n",
      "           xxxxxxxxx        \n",
      "         xxxxxxxxx          \n",
      "         xxxxxx             \n",
      "       xxxxxxx              \n",
      "       xxxxxx               \n",
      "      xxxxxx     xxxxxxxx   \n",
      "     xxxxxxx  xxxxxxxxxx    \n",
      "     xxxxxxxxxxxxxxxxxxx    \n",
      "      xxxxxxxxxxxxxxxxxx    \n",
      "       xxxxxxxxxxxxxxx      \n",
      "        xxxxxxxxx           \n",
      "                            \n",
      "                            \n",
      "                            \n",
      "                            \n",
      "2\n"
     ]
    }
   ],
   "source": [
    "# Display number on console\n",
    "number = 25\n",
    "\n",
    "for i in range(28):\n",
    "\n",
    "    string = \"\"\n",
    "    for j in range(28):\n",
    "        if images[number][i*28 + j] > 0:\n",
    "            string += \"x\"\n",
    "        else:\n",
    "            string += \" \"\n",
    "    print(string)\n",
    "\n",
    "print(labels[number])"
   ]
  },
  {
   "cell_type": "code",
   "execution_count": 4,
   "metadata": {},
   "outputs": [
    {
     "data": {
      "text/plain": [
       "LinearSVC(C=1.0, class_weight=None, dual=True, fit_intercept=True,\n",
       "     intercept_scaling=1, loss='squared_hinge', max_iter=1000,\n",
       "     multi_class='ovr', penalty='l2', random_state=None, tol=0.0001,\n",
       "     verbose=0)"
      ]
     },
     "execution_count": 4,
     "metadata": {},
     "output_type": "execute_result"
    }
   ],
   "source": [
    "# Create and fit model\n",
    "lin_clf = svm.LinearSVC()\n",
    "lin_clf.fit(images, labels) "
   ]
  },
  {
   "cell_type": "code",
   "execution_count": 8,
   "metadata": {},
   "outputs": [
    {
     "name": "stdout",
     "output_type": "stream",
     "text": [
      "[[ 2.17074062 -6.60575476 -3.79608886 -2.45673858 -4.95693844 -2.79893305\n",
      "  -2.24606963 -6.79277723 -1.32401074 -3.7354468 ]]\n"
     ]
    }
   ],
   "source": [
    "dec = lin_clf.decision_function([images[1]])\n",
    "print(dec)"
   ]
  },
  {
   "cell_type": "code",
   "execution_count": 17,
   "metadata": {},
   "outputs": [],
   "source": [
    "def accuracy(X, y):\n",
    "    m = np.shape(X)[0]\n",
    "    assert m == np.shape(y)[0]\n",
    "    \n",
    "    right = 0\n",
    "    for i in range(m):\n",
    "        predicted = lin_clf.predict([X[i]])\n",
    "        if predicted[0] == y[i]:\n",
    "            right += 1\n",
    "    acc = right / m * 100\n",
    "    return acc"
   ]
  },
  {
   "cell_type": "code",
   "execution_count": 20,
   "metadata": {},
   "outputs": [],
   "source": [
    "X_test, y_test = mndata.load_testing()\n",
    "\n",
    "test_acc = accuracy(X_test, y_test)"
   ]
  },
  {
   "cell_type": "code",
   "execution_count": 21,
   "metadata": {},
   "outputs": [
    {
     "name": "stdout",
     "output_type": "stream",
     "text": [
      "Testing accuracy = 83.06\n"
     ]
    }
   ],
   "source": [
    "print(\"Testing accuracy = {:2.2f}\".format(test_acc))"
   ]
  },
  {
   "cell_type": "code",
   "execution_count": null,
   "metadata": {
    "collapsed": true
   },
   "outputs": [],
   "source": []
  }
 ],
 "metadata": {
  "kernelspec": {
   "display_name": "Python 3",
   "language": "python",
   "name": "python3"
  },
  "language_info": {
   "codemirror_mode": {
    "name": "ipython",
    "version": 3
   },
   "file_extension": ".py",
   "mimetype": "text/x-python",
   "name": "python",
   "nbconvert_exporter": "python",
   "pygments_lexer": "ipython3",
   "version": "3.6.1"
  }
 },
 "nbformat": 4,
 "nbformat_minor": 2
}
