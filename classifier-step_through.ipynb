{
 "cells": [
  {
   "cell_type": "code",
   "execution_count": 1,
   "metadata": {
    "collapsed": true
   },
   "outputs": [],
   "source": [
    "import numpy as np\n",
    "import os\n",
    "\n",
    "from mnist import MNIST\n",
    "from sklearn import svm"
   ]
  },
  {
   "cell_type": "code",
   "execution_count": 5,
   "metadata": {
    "collapsed": true
   },
   "outputs": [],
   "source": [
    "# Load Data\n",
    "mndata = MNIST('data')\n",
    "X_train, y_train = mndata.load_training()\n",
    "X_test, y_test = mndata.load_testing()"
   ]
  },
  {
   "cell_type": "code",
   "execution_count": 3,
   "metadata": {},
   "outputs": [
    {
     "name": "stdout",
     "output_type": "stream",
     "text": [
      "                            \n",
      "                            \n",
      "                            \n",
      "                            \n",
      "            xxxxxxx         \n",
      "         xxxxxxxxxxxxx      \n",
      "       xxxxxxxxxxxxxxxx     \n",
      "       xxxxxxxxxxxxxxxx     \n",
      "       xxxxxx    xxxxxx     \n",
      "       xxxx      xxxxxx     \n",
      "               xxxxxxx      \n",
      "              xxxxxxxx      \n",
      "             xxxxxxxx       \n",
      "           xxxxxxxxx        \n",
      "         xxxxxxxxx          \n",
      "         xxxxxx             \n",
      "       xxxxxxx              \n",
      "       xxxxxx               \n",
      "      xxxxxx     xxxxxxxx   \n",
      "     xxxxxxx  xxxxxxxxxx    \n",
      "     xxxxxxxxxxxxxxxxxxx    \n",
      "      xxxxxxxxxxxxxxxxxx    \n",
      "       xxxxxxxxxxxxxxx      \n",
      "        xxxxxxxxx           \n",
      "                            \n",
      "                            \n",
      "                            \n",
      "                            \n",
      "2\n"
     ]
    }
   ],
   "source": [
    "# Display number on console\n",
    "number = 25\n",
    "\n",
    "for i in range(28):\n",
    "\n",
    "    string = \"\"\n",
    "    for j in range(28):\n",
    "        if X_train[number][i*28 + j] > 0:\n",
    "            string += \"x\"\n",
    "        else:\n",
    "            string += \" \"\n",
    "    print(string)\n",
    "\n",
    "print(y_train[number])"
   ]
  },
  {
   "cell_type": "code",
   "execution_count": 6,
   "metadata": {},
   "outputs": [
    {
     "data": {
      "text/plain": [
       "LinearSVC(C=1.0, class_weight=None, dual=True, fit_intercept=True,\n",
       "     intercept_scaling=1, loss='squared_hinge', max_iter=1000,\n",
       "     multi_class='ovr', penalty='l2', random_state=None, tol=0.0001,\n",
       "     verbose=0)"
      ]
     },
     "execution_count": 6,
     "metadata": {},
     "output_type": "execute_result"
    }
   ],
   "source": [
    "# Create and fit model\n",
    "lin_clf = svm.LinearSVC()\n",
    "lin_clf.fit(X_train, y_train) "
   ]
  },
  {
   "cell_type": "code",
   "execution_count": 7,
   "metadata": {},
   "outputs": [
    {
     "name": "stdout",
     "output_type": "stream",
     "text": [
      "[[ 2.96214981 -8.46476245 -2.35814057 -2.85183804 -4.68618371 -3.30638205\n",
      "  -2.87455048 -6.20332776 -0.59004081 -3.66495348]]\n"
     ]
    }
   ],
   "source": [
    "dec = lin_clf.decision_function([X_train[1]])\n",
    "print(dec)"
   ]
  },
  {
   "cell_type": "code",
   "execution_count": 4,
   "metadata": {
    "collapsed": true
   },
   "outputs": [],
   "source": [
    "def accuracy(X, y, model):\n",
    "    m = np.shape(X)[0]\n",
    "    assert m == np.shape(y)[0]\n",
    "    \n",
    "    right = 0\n",
    "    for i in range(m):\n",
    "        predicted = model.predict([X[i]])\n",
    "        if predicted[0] == y[i]:\n",
    "            right += 1\n",
    "    acc = right / m * 100\n",
    "    return acc"
   ]
  },
  {
   "cell_type": "code",
   "execution_count": 7,
   "metadata": {},
   "outputs": [
    {
     "ename": "NameError",
     "evalue": "name 'lin_clf' is not defined",
     "output_type": "error",
     "traceback": [
      "\u001b[1;31m---------------------------------------------------------------------------\u001b[0m",
      "\u001b[1;31mNameError\u001b[0m                                 Traceback (most recent call last)",
      "\u001b[1;32m<ipython-input-7-d6326d786f9e>\u001b[0m in \u001b[0;36m<module>\u001b[1;34m()\u001b[0m\n\u001b[0;32m      1\u001b[0m \u001b[0mX_test\u001b[0m\u001b[1;33m,\u001b[0m \u001b[0my_test\u001b[0m \u001b[1;33m=\u001b[0m \u001b[0mmndata\u001b[0m\u001b[1;33m.\u001b[0m\u001b[0mload_testing\u001b[0m\u001b[1;33m(\u001b[0m\u001b[1;33m)\u001b[0m\u001b[1;33m\u001b[0m\u001b[0m\n\u001b[0;32m      2\u001b[0m \u001b[1;33m\u001b[0m\u001b[0m\n\u001b[1;32m----> 3\u001b[1;33m \u001b[0mtest_acc\u001b[0m \u001b[1;33m=\u001b[0m \u001b[0maccuracy\u001b[0m\u001b[1;33m(\u001b[0m\u001b[0mX_test\u001b[0m\u001b[1;33m,\u001b[0m \u001b[0my_test\u001b[0m\u001b[1;33m,\u001b[0m \u001b[0mlin_clf\u001b[0m\u001b[1;33m)\u001b[0m\u001b[1;33m\u001b[0m\u001b[0m\n\u001b[0m\u001b[0;32m      4\u001b[0m \u001b[0mtrain_acc\u001b[0m \u001b[1;33m=\u001b[0m \u001b[0maccuracy\u001b[0m\u001b[1;33m(\u001b[0m\u001b[0mX_train\u001b[0m\u001b[1;33m,\u001b[0m \u001b[0my_train\u001b[0m\u001b[1;33m,\u001b[0m \u001b[0mlin_clf\u001b[0m\u001b[1;33m)\u001b[0m\u001b[1;33m\u001b[0m\u001b[0m\n",
      "\u001b[1;31mNameError\u001b[0m: name 'lin_clf' is not defined"
     ]
    }
   ],
   "source": [
    "test_acc = accuracy(X_test, y_test, lin_clf)\n",
    "train_acc = accuracy(X_train, y_train, lin_clf)"
   ]
  },
  {
   "cell_type": "code",
   "execution_count": 10,
   "metadata": {},
   "outputs": [
    {
     "name": "stdout",
     "output_type": "stream",
     "text": [
      "Testing accuracy = 86.49\n",
      "Training accuracy = 87.27\n"
     ]
    }
   ],
   "source": [
    "print(\"Testing accuracy = {:2.2f}\".format(test_acc))\n",
    "print(\"Training accuracy = {:2.2f}\".format(train_acc))"
   ]
  },
  {
   "cell_type": "code",
   "execution_count": 5,
   "metadata": {},
   "outputs": [
    {
     "name": "stderr",
     "output_type": "stream",
     "text": [
      "c:\\users\\aparajithan\\appdata\\local\\programs\\python\\python36\\lib\\site-packages\\sklearn\\svm\\base.py:220: ConvergenceWarning: Solver terminated early (max_iter=1000).  Consider pre-processing your data with StandardScaler or MinMaxScaler.\n",
      "  % self.max_iter, ConvergenceWarning)\n"
     ]
    },
    {
     "data": {
      "text/plain": [
       "SVC(C=1.0, cache_size=200, class_weight=None, coef0=0.0,\n",
       "  decision_function_shape=None, degree=2, gamma='auto', kernel='poly',\n",
       "  max_iter=1000, probability=False, random_state=None, shrinking=True,\n",
       "  tol=0.001, verbose=False)"
      ]
     },
     "execution_count": 5,
     "metadata": {},
     "output_type": "execute_result"
    }
   ],
   "source": [
    "quadratic_clf = svm.SVC(kernel='poly', degree=2, max_iter=1000)\n",
    "quadratic_clf.fit(X_train, y_train)"
   ]
  },
  {
   "cell_type": "code",
   "execution_count": 8,
   "metadata": {},
   "outputs": [
    {
     "name": "stdout",
     "output_type": "stream",
     "text": [
      "Testing accuracy = 98.08\n",
      "Training accuracy = 100.00\n"
     ]
    }
   ],
   "source": [
    "test_acc = accuracy(X_test, y_test, quadratic_clf)\n",
    "train_acc = accuracy(X_train, y_train, quadratic_clf)\n",
    "\n",
    "print(\"Testing accuracy = {:2.2f}\".format(test_acc))\n",
    "print(\"Training accuracy = {:2.2f}\".format(train_acc))"
   ]
  },
  {
   "cell_type": "code",
   "execution_count": 9,
   "metadata": {},
   "outputs": [
    {
     "name": "stderr",
     "output_type": "stream",
     "text": [
      "c:\\users\\aparajithan\\appdata\\local\\programs\\python\\python36\\lib\\site-packages\\sklearn\\svm\\base.py:220: ConvergenceWarning: Solver terminated early (max_iter=500).  Consider pre-processing your data with StandardScaler or MinMaxScaler.\n",
      "  % self.max_iter, ConvergenceWarning)\n"
     ]
    },
    {
     "data": {
      "text/plain": [
       "SVC(C=1.0, cache_size=200, class_weight=None, coef0=0.0,\n",
       "  decision_function_shape=None, degree=3, gamma='auto', kernel='poly',\n",
       "  max_iter=500, probability=False, random_state=None, shrinking=True,\n",
       "  tol=0.001, verbose=False)"
      ]
     },
     "execution_count": 9,
     "metadata": {},
     "output_type": "execute_result"
    }
   ],
   "source": [
    "cubic_clf = svm.SVC(kernel='poly', degree=3, max_iter=500)\n",
    "cubic_clf.fit(X_train, y_train)"
   ]
  },
  {
   "cell_type": "code",
   "execution_count": 10,
   "metadata": {},
   "outputs": [
    {
     "name": "stdout",
     "output_type": "stream",
     "text": [
      "Testing accuracy = 97.85\n",
      "Training accuracy = 99.99\n"
     ]
    }
   ],
   "source": [
    "test_acc = accuracy(X_test, y_test, cubic_clf)\n",
    "train_acc = accuracy(X_train, y_train, cubic_clf)\n",
    "\n",
    "print(\"Testing accuracy = {:2.2f}\".format(test_acc))\n",
    "print(\"Training accuracy = {:2.2f}\".format(train_acc))"
   ]
  },
  {
   "cell_type": "code",
   "execution_count": 6,
   "metadata": {},
   "outputs": [
    {
     "name": "stderr",
     "output_type": "stream",
     "text": [
      "c:\\users\\aparajithan\\appdata\\local\\programs\\python\\python36\\lib\\site-packages\\sklearn\\svm\\base.py:220: ConvergenceWarning: Solver terminated early (max_iter=500).  Consider pre-processing your data with StandardScaler or MinMaxScaler.\n",
      "  % self.max_iter, ConvergenceWarning)\n"
     ]
    },
    {
     "data": {
      "text/plain": [
       "SVC(C=1.0, cache_size=200, class_weight=None, coef0=0.0,\n",
       "  decision_function_shape=None, degree=3, gamma='auto', kernel='sigmoid',\n",
       "  max_iter=500, probability=False, random_state=None, shrinking=True,\n",
       "  tol=0.001, verbose=False)"
      ]
     },
     "execution_count": 6,
     "metadata": {},
     "output_type": "execute_result"
    }
   ],
   "source": [
    "sigmoid_clf = svm.SVC(kernel='sigmoid', max_iter=500)\n",
    "sigmoid_clf.fit(X_train, y_train)"
   ]
  },
  {
   "cell_type": "code",
   "execution_count": 7,
   "metadata": {},
   "outputs": [
    {
     "name": "stdout",
     "output_type": "stream",
     "text": [
      "Testing accuracy = 10.09\n",
      "Training accuracy = 9.92\n"
     ]
    }
   ],
   "source": [
    "test_acc = accuracy(X_test, y_test, sigmoid_clf)\n",
    "train_acc = accuracy(X_train, y_train, sigmoid_clf)\n",
    "\n",
    "print(\"Testing accuracy = {:2.2f}\".format(test_acc))\n",
    "print(\"Training accuracy = {:2.2f}\".format(train_acc))"
   ]
  },
  {
   "cell_type": "code",
   "execution_count": null,
   "metadata": {
    "collapsed": true
   },
   "outputs": [],
   "source": []
  }
 ],
 "metadata": {
  "kernelspec": {
   "display_name": "Python 3",
   "language": "python",
   "name": "python3"
  },
  "language_info": {
   "codemirror_mode": {
    "name": "ipython",
    "version": 3
   },
   "file_extension": ".py",
   "mimetype": "text/x-python",
   "name": "python",
   "nbconvert_exporter": "python",
   "pygments_lexer": "ipython3",
   "version": "3.6.1"
  }
 },
 "nbformat": 4,
 "nbformat_minor": 2
}
